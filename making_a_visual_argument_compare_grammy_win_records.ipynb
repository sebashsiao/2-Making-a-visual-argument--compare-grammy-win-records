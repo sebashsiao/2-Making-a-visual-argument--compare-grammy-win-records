{
 "cells": [
  {
   "cell_type": "markdown",
   "id": "a66e28f9",
   "metadata": {},
   "source": [
    "#### Setup"
   ]
  },
  {
   "cell_type": "code",
   "execution_count": 1,
   "id": "0dd98174",
   "metadata": {
    "ExecuteTime": {
     "end_time": "2023-12-20T02:10:16.518164Z",
     "start_time": "2023-12-20T02:10:12.627079Z"
    }
   },
   "outputs": [
    {
     "ename": "FileNotFoundError",
     "evalue": "[Errno 2] No such file or directory: 'solti_beyonce_grammys.csv'",
     "output_type": "error",
     "traceback": [
      "\u001B[0;31m---------------------------------------------------------------------------\u001B[0m",
      "\u001B[0;31mFileNotFoundError\u001B[0m                         Traceback (most recent call last)",
      "Cell \u001B[0;32mIn[1], line 6\u001B[0m\n\u001B[1;32m      3\u001B[0m \u001B[38;5;28;01mimport\u001B[39;00m \u001B[38;5;21;01mpandas\u001B[39;00m \u001B[38;5;28;01mas\u001B[39;00m \u001B[38;5;21;01mpd\u001B[39;00m\n\u001B[1;32m      5\u001B[0m \u001B[38;5;66;03m# load dataset\u001B[39;00m\n\u001B[0;32m----> 6\u001B[0m grammys_data \u001B[38;5;241m=\u001B[39m pd\u001B[38;5;241m.\u001B[39mread_csv(\u001B[38;5;124m'\u001B[39m\u001B[38;5;124msolti_beyonce_grammys.csv\u001B[39m\u001B[38;5;124m'\u001B[39m)\n",
      "File \u001B[0;32m~/anaconda3/lib/python3.11/site-packages/pandas/io/parsers/readers.py:912\u001B[0m, in \u001B[0;36mread_csv\u001B[0;34m(filepath_or_buffer, sep, delimiter, header, names, index_col, usecols, dtype, engine, converters, true_values, false_values, skipinitialspace, skiprows, skipfooter, nrows, na_values, keep_default_na, na_filter, verbose, skip_blank_lines, parse_dates, infer_datetime_format, keep_date_col, date_parser, date_format, dayfirst, cache_dates, iterator, chunksize, compression, thousands, decimal, lineterminator, quotechar, quoting, doublequote, escapechar, comment, encoding, encoding_errors, dialect, on_bad_lines, delim_whitespace, low_memory, memory_map, float_precision, storage_options, dtype_backend)\u001B[0m\n\u001B[1;32m    899\u001B[0m kwds_defaults \u001B[38;5;241m=\u001B[39m _refine_defaults_read(\n\u001B[1;32m    900\u001B[0m     dialect,\n\u001B[1;32m    901\u001B[0m     delimiter,\n\u001B[0;32m   (...)\u001B[0m\n\u001B[1;32m    908\u001B[0m     dtype_backend\u001B[38;5;241m=\u001B[39mdtype_backend,\n\u001B[1;32m    909\u001B[0m )\n\u001B[1;32m    910\u001B[0m kwds\u001B[38;5;241m.\u001B[39mupdate(kwds_defaults)\n\u001B[0;32m--> 912\u001B[0m \u001B[38;5;28;01mreturn\u001B[39;00m _read(filepath_or_buffer, kwds)\n",
      "File \u001B[0;32m~/anaconda3/lib/python3.11/site-packages/pandas/io/parsers/readers.py:577\u001B[0m, in \u001B[0;36m_read\u001B[0;34m(filepath_or_buffer, kwds)\u001B[0m\n\u001B[1;32m    574\u001B[0m _validate_names(kwds\u001B[38;5;241m.\u001B[39mget(\u001B[38;5;124m\"\u001B[39m\u001B[38;5;124mnames\u001B[39m\u001B[38;5;124m\"\u001B[39m, \u001B[38;5;28;01mNone\u001B[39;00m))\n\u001B[1;32m    576\u001B[0m \u001B[38;5;66;03m# Create the parser.\u001B[39;00m\n\u001B[0;32m--> 577\u001B[0m parser \u001B[38;5;241m=\u001B[39m TextFileReader(filepath_or_buffer, \u001B[38;5;241m*\u001B[39m\u001B[38;5;241m*\u001B[39mkwds)\n\u001B[1;32m    579\u001B[0m \u001B[38;5;28;01mif\u001B[39;00m chunksize \u001B[38;5;129;01mor\u001B[39;00m iterator:\n\u001B[1;32m    580\u001B[0m     \u001B[38;5;28;01mreturn\u001B[39;00m parser\n",
      "File \u001B[0;32m~/anaconda3/lib/python3.11/site-packages/pandas/io/parsers/readers.py:1407\u001B[0m, in \u001B[0;36mTextFileReader.__init__\u001B[0;34m(self, f, engine, **kwds)\u001B[0m\n\u001B[1;32m   1404\u001B[0m     \u001B[38;5;28mself\u001B[39m\u001B[38;5;241m.\u001B[39moptions[\u001B[38;5;124m\"\u001B[39m\u001B[38;5;124mhas_index_names\u001B[39m\u001B[38;5;124m\"\u001B[39m] \u001B[38;5;241m=\u001B[39m kwds[\u001B[38;5;124m\"\u001B[39m\u001B[38;5;124mhas_index_names\u001B[39m\u001B[38;5;124m\"\u001B[39m]\n\u001B[1;32m   1406\u001B[0m \u001B[38;5;28mself\u001B[39m\u001B[38;5;241m.\u001B[39mhandles: IOHandles \u001B[38;5;241m|\u001B[39m \u001B[38;5;28;01mNone\u001B[39;00m \u001B[38;5;241m=\u001B[39m \u001B[38;5;28;01mNone\u001B[39;00m\n\u001B[0;32m-> 1407\u001B[0m \u001B[38;5;28mself\u001B[39m\u001B[38;5;241m.\u001B[39m_engine \u001B[38;5;241m=\u001B[39m \u001B[38;5;28mself\u001B[39m\u001B[38;5;241m.\u001B[39m_make_engine(f, \u001B[38;5;28mself\u001B[39m\u001B[38;5;241m.\u001B[39mengine)\n",
      "File \u001B[0;32m~/anaconda3/lib/python3.11/site-packages/pandas/io/parsers/readers.py:1661\u001B[0m, in \u001B[0;36mTextFileReader._make_engine\u001B[0;34m(self, f, engine)\u001B[0m\n\u001B[1;32m   1659\u001B[0m     \u001B[38;5;28;01mif\u001B[39;00m \u001B[38;5;124m\"\u001B[39m\u001B[38;5;124mb\u001B[39m\u001B[38;5;124m\"\u001B[39m \u001B[38;5;129;01mnot\u001B[39;00m \u001B[38;5;129;01min\u001B[39;00m mode:\n\u001B[1;32m   1660\u001B[0m         mode \u001B[38;5;241m+\u001B[39m\u001B[38;5;241m=\u001B[39m \u001B[38;5;124m\"\u001B[39m\u001B[38;5;124mb\u001B[39m\u001B[38;5;124m\"\u001B[39m\n\u001B[0;32m-> 1661\u001B[0m \u001B[38;5;28mself\u001B[39m\u001B[38;5;241m.\u001B[39mhandles \u001B[38;5;241m=\u001B[39m get_handle(\n\u001B[1;32m   1662\u001B[0m     f,\n\u001B[1;32m   1663\u001B[0m     mode,\n\u001B[1;32m   1664\u001B[0m     encoding\u001B[38;5;241m=\u001B[39m\u001B[38;5;28mself\u001B[39m\u001B[38;5;241m.\u001B[39moptions\u001B[38;5;241m.\u001B[39mget(\u001B[38;5;124m\"\u001B[39m\u001B[38;5;124mencoding\u001B[39m\u001B[38;5;124m\"\u001B[39m, \u001B[38;5;28;01mNone\u001B[39;00m),\n\u001B[1;32m   1665\u001B[0m     compression\u001B[38;5;241m=\u001B[39m\u001B[38;5;28mself\u001B[39m\u001B[38;5;241m.\u001B[39moptions\u001B[38;5;241m.\u001B[39mget(\u001B[38;5;124m\"\u001B[39m\u001B[38;5;124mcompression\u001B[39m\u001B[38;5;124m\"\u001B[39m, \u001B[38;5;28;01mNone\u001B[39;00m),\n\u001B[1;32m   1666\u001B[0m     memory_map\u001B[38;5;241m=\u001B[39m\u001B[38;5;28mself\u001B[39m\u001B[38;5;241m.\u001B[39moptions\u001B[38;5;241m.\u001B[39mget(\u001B[38;5;124m\"\u001B[39m\u001B[38;5;124mmemory_map\u001B[39m\u001B[38;5;124m\"\u001B[39m, \u001B[38;5;28;01mFalse\u001B[39;00m),\n\u001B[1;32m   1667\u001B[0m     is_text\u001B[38;5;241m=\u001B[39mis_text,\n\u001B[1;32m   1668\u001B[0m     errors\u001B[38;5;241m=\u001B[39m\u001B[38;5;28mself\u001B[39m\u001B[38;5;241m.\u001B[39moptions\u001B[38;5;241m.\u001B[39mget(\u001B[38;5;124m\"\u001B[39m\u001B[38;5;124mencoding_errors\u001B[39m\u001B[38;5;124m\"\u001B[39m, \u001B[38;5;124m\"\u001B[39m\u001B[38;5;124mstrict\u001B[39m\u001B[38;5;124m\"\u001B[39m),\n\u001B[1;32m   1669\u001B[0m     storage_options\u001B[38;5;241m=\u001B[39m\u001B[38;5;28mself\u001B[39m\u001B[38;5;241m.\u001B[39moptions\u001B[38;5;241m.\u001B[39mget(\u001B[38;5;124m\"\u001B[39m\u001B[38;5;124mstorage_options\u001B[39m\u001B[38;5;124m\"\u001B[39m, \u001B[38;5;28;01mNone\u001B[39;00m),\n\u001B[1;32m   1670\u001B[0m )\n\u001B[1;32m   1671\u001B[0m \u001B[38;5;28;01massert\u001B[39;00m \u001B[38;5;28mself\u001B[39m\u001B[38;5;241m.\u001B[39mhandles \u001B[38;5;129;01mis\u001B[39;00m \u001B[38;5;129;01mnot\u001B[39;00m \u001B[38;5;28;01mNone\u001B[39;00m\n\u001B[1;32m   1672\u001B[0m f \u001B[38;5;241m=\u001B[39m \u001B[38;5;28mself\u001B[39m\u001B[38;5;241m.\u001B[39mhandles\u001B[38;5;241m.\u001B[39mhandle\n",
      "File \u001B[0;32m~/anaconda3/lib/python3.11/site-packages/pandas/io/common.py:859\u001B[0m, in \u001B[0;36mget_handle\u001B[0;34m(path_or_buf, mode, encoding, compression, memory_map, is_text, errors, storage_options)\u001B[0m\n\u001B[1;32m    854\u001B[0m \u001B[38;5;28;01melif\u001B[39;00m \u001B[38;5;28misinstance\u001B[39m(handle, \u001B[38;5;28mstr\u001B[39m):\n\u001B[1;32m    855\u001B[0m     \u001B[38;5;66;03m# Check whether the filename is to be opened in binary mode.\u001B[39;00m\n\u001B[1;32m    856\u001B[0m     \u001B[38;5;66;03m# Binary mode does not support 'encoding' and 'newline'.\u001B[39;00m\n\u001B[1;32m    857\u001B[0m     \u001B[38;5;28;01mif\u001B[39;00m ioargs\u001B[38;5;241m.\u001B[39mencoding \u001B[38;5;129;01mand\u001B[39;00m \u001B[38;5;124m\"\u001B[39m\u001B[38;5;124mb\u001B[39m\u001B[38;5;124m\"\u001B[39m \u001B[38;5;129;01mnot\u001B[39;00m \u001B[38;5;129;01min\u001B[39;00m ioargs\u001B[38;5;241m.\u001B[39mmode:\n\u001B[1;32m    858\u001B[0m         \u001B[38;5;66;03m# Encoding\u001B[39;00m\n\u001B[0;32m--> 859\u001B[0m         handle \u001B[38;5;241m=\u001B[39m \u001B[38;5;28mopen\u001B[39m(\n\u001B[1;32m    860\u001B[0m             handle,\n\u001B[1;32m    861\u001B[0m             ioargs\u001B[38;5;241m.\u001B[39mmode,\n\u001B[1;32m    862\u001B[0m             encoding\u001B[38;5;241m=\u001B[39mioargs\u001B[38;5;241m.\u001B[39mencoding,\n\u001B[1;32m    863\u001B[0m             errors\u001B[38;5;241m=\u001B[39merrors,\n\u001B[1;32m    864\u001B[0m             newline\u001B[38;5;241m=\u001B[39m\u001B[38;5;124m\"\u001B[39m\u001B[38;5;124m\"\u001B[39m,\n\u001B[1;32m    865\u001B[0m         )\n\u001B[1;32m    866\u001B[0m     \u001B[38;5;28;01melse\u001B[39;00m:\n\u001B[1;32m    867\u001B[0m         \u001B[38;5;66;03m# Binary mode\u001B[39;00m\n\u001B[1;32m    868\u001B[0m         handle \u001B[38;5;241m=\u001B[39m \u001B[38;5;28mopen\u001B[39m(handle, ioargs\u001B[38;5;241m.\u001B[39mmode)\n",
      "\u001B[0;31mFileNotFoundError\u001B[0m: [Errno 2] No such file or directory: 'solti_beyonce_grammys.csv'"
     ]
    }
   ],
   "source": [
    "# import matplotlib and pandas\n",
    "from matplotlib import pyplot as plt\n",
    "import pandas as pd\n",
    "\n",
    "# load dataset\n",
    "grammys_data = pd.read_csv('solti_beyonce_grammys.csv')"
   ]
  },
  {
   "cell_type": "code",
   "execution_count": null,
   "id": "1db8a35e",
   "metadata": {
    "ExecuteTime": {
     "end_time": "2023-12-20T02:10:16.524607Z",
     "start_time": "2023-12-20T02:10:16.519164Z"
    }
   },
   "outputs": [],
   "source": [
    "# display graphs correctly\n",
    "%matplotlib inline\n",
    "plt.rcParams['figure.figsize'] = (5, 3)\n",
    "plt.rcParams['figure.dpi'] = 75"
   ]
  },
  {
   "cell_type": "code",
   "execution_count": null,
   "id": "06f74630",
   "metadata": {
    "scrolled": true,
    "ExecuteTime": {
     "end_time": "2023-12-20T02:10:16.563820Z",
     "start_time": "2023-12-20T02:10:16.530672Z"
    }
   },
   "outputs": [],
   "source": [
    "# inspect the data\n",
    "grammys_data.head()"
   ]
  },
  {
   "cell_type": "markdown",
   "id": "a4c7ac5b",
   "metadata": {},
   "source": [
    "Here's a \"first draft\" chart that (sort of) compares the careers of these two record-breaking Grammy artists. Obviously, there's some information missing... like who they are. Let's improve this chart and make a visual argument to better compare their Grammy nominations and wins. "
   ]
  },
  {
   "attachments": {
    "first_draft-chart.png": {
     "image/png": "[encoded data removed]"
    }
   },
   "cell_type": "markdown",
   "id": "5177746c",
   "metadata": {},
   "source": [
    "![first_draft-chart.png](attachment:first_draft-chart.png)"
   ]
  },
  {
   "cell_type": "markdown",
   "id": "5161722a",
   "metadata": {},
   "source": [
    "### Recreate the first draft chart as our starting point."
   ]
  },
  {
   "cell_type": "markdown",
   "id": "06160963",
   "metadata": {},
   "source": [
    "1. Make sure to run the setup cells to import `matplotlib` and `pandas`, display the graphs correctly, and load and preview our data. Once you've done that, create two sets of stacked bars using `plt.bar()`: Solti's wins and nominations, and Beyoncé's wins and nominations. For each, set the nominations on the `bottom`. Refer back to the `grammys_data.head()` cell to correctly call each piece of y-data, as well as the years on the x-axis. The colors used in the chart are `cornflowerblue` and `orange` for Solti, and `royalblue` and `pink` for Beyoncé."
   ]
  },
  {
   "cell_type": "code",
   "execution_count": null,
   "id": "0786ece8",
   "metadata": {
    "ExecuteTime": {
     "start_time": "2023-12-20T02:10:16.544990Z"
    }
   },
   "outputs": [],
   "source": [
    "# Solti grammys\n",
    "plt.bar(grammys_data.year, height=grammys_data.solti_nominated, color='cornflowerblue')\n",
    "plt.bar(grammys_data.year, height=grammys_data.solti_won, color='orange', bottom=grammys_data.solti_nominated)\n",
    "# Beyonce grammys\n",
    "plt.bar(grammys_data.year, height=grammys_data.beyonce_nominated, color='royalblue')\n",
    "plt.bar(grammys_data.year, height=grammys_data.beyonce_won, color='pink', bottom=grammys_data.beyonce_nominated)\n",
    "\n",
    "plt.show()"
   ]
  },
  {
   "cell_type": "markdown",
   "id": "619d9d55",
   "metadata": {},
   "source": [
    "### Separate the single chart into two stacked subplots."
   ]
  },
  {
   "cell_type": "markdown",
   "id": "1e3f90f7",
   "metadata": {},
   "source": [
    "2. Make a figure with dimensions of `(8,6)` and face color of `aliceblue`. (Add this line of code above the `plt.bar()` lines.)"
   ]
  },
  {
   "cell_type": "code",
   "execution_count": null,
   "id": "b2d97312",
   "metadata": {
    "ExecuteTime": {
     "start_time": "2023-12-20T02:10:16.556386Z"
    }
   },
   "outputs": [],
   "source": [
    "# first-draft chart\n",
    "fig = plt.figure(figsize=(8,6), facecolor='aliceblue')\n",
    "\n",
    "# Solti grammys\n",
    "plt.bar(grammys_data.year, grammys_data.solti_nominated, color='cornflowerblue')\n",
    "plt.bar(grammys_data.year, grammys_data.solti_won, color='orange', bottom=grammys_data.solti_nominated)\n",
    "# Beyonce grammys\n",
    "plt.bar(grammys_data.year, grammys_data.beyonce_nominated, color='royalblue')\n",
    "plt.bar(grammys_data.year, grammys_data.beyonce_won, color='pink', bottom=grammys_data.beyonce_nominated)\n",
    "\n",
    "plt.show()"
   ]
  },
  {
   "cell_type": "markdown",
   "id": "c054e491",
   "metadata": {},
   "source": [
    "3. Make two subplots, one above and one below. Plot Solti on the top chart and Beyoncé on the bottom chart."
   ]
  },
  {
   "cell_type": "code",
   "execution_count": null,
   "id": "cff8a4cb",
   "metadata": {
    "ExecuteTime": {
     "end_time": "2023-12-20T02:10:16.715973Z",
     "start_time": "2023-12-20T02:10:16.566576Z"
    }
   },
   "outputs": [],
   "source": [
    "fig = plt.figure(figsize=(8,6), facecolor='aliceblue')\n",
    "\n",
    "plt.subplot(2,1,1)\n",
    "plt.bar(grammys_data.year, grammys_data.solti_nominated, color='cornflowerblue')\n",
    "plt.bar(grammys_data.year, grammys_data.solti_won, color='orange', bottom=grammys_data.solti_nominated)\n",
    "\n",
    "plt.subplot(2,1,2)\n",
    "plt.bar(grammys_data.year, grammys_data.beyonce_nominated, color='royalblue')\n",
    "plt.bar(grammys_data.year, grammys_data.beyonce_won, bottom=grammys_data.beyonce_nominated, color='pink')\n",
    "\n",
    "plt.show()"
   ]
  },
  {
   "cell_type": "markdown",
   "id": "2690051b",
   "metadata": {},
   "source": [
    "4. Add a `title` to each chart to specify which artist it refers to, and a `suptitle` to the figure so we know what is being visualized. Standardize the y-axes by explicitly setting the `ylim` for each subplot -- we need to compare both graphs with the same y-axis. While you're at it, set the `xlim` too to avoid extra spacing at either end of the graph. "
   ]
  },
  {
   "cell_type": "code",
   "execution_count": null,
   "id": "12258647",
   "metadata": {
    "ExecuteTime": {
     "start_time": "2023-12-20T02:10:16.575720Z"
    }
   },
   "outputs": [],
   "source": [
    "fig = plt.figure(figsize=(8,6), facecolor='aliceblue')\n",
    "fig.suptitle('Grammy Nominations and Wins')\n",
    "\n",
    "plt.subplot(2,1,1)\n",
    "plt.bar(grammys_data.year, grammys_data.solti_nominated, color='cornflowerblue')\n",
    "plt.bar(grammys_data.year, grammys_data.solti_won, color='orange', bottom=grammys_data.solti_nominated)\n",
    "plt.title('Solti Grammy Awards')\n",
    "plt.xlim(1961,2025)\n",
    "plt.ylim(0,11)\n",
    "\n",
    "plt.subplot(2,1,2)\n",
    "plt.bar(grammys_data.year, grammys_data.beyonce_nominated, color='royalblue')\n",
    "plt.bar(grammys_data.year, grammys_data.beyonce_won, bottom=grammys_data.beyonce_nominated, color='pink')\n",
    "plt.title('Beyonce Grammy Awards')\n",
    "plt.xlim(1961, 2025)\n",
    "plt.ylim(0,11)\n",
    "\n",
    "plt.show()"
   ]
  },
  {
   "cell_type": "markdown",
   "id": "a7da9053",
   "metadata": {},
   "source": [
    "### Adjust chart spacing and add a legend."
   ]
  },
  {
   "cell_type": "markdown",
   "id": "b8206b3e",
   "metadata": {},
   "source": [
    "5. Use the `hspace` parameter of `subplots_adjust` to improve the spacing of subplots. You can use an empty space in Beyoncé's `xlabel` to give the graph more breathing room at the bottom too. "
   ]
  },
  {
   "cell_type": "code",
   "execution_count": null,
   "id": "b673bc62",
   "metadata": {
    "ExecuteTime": {
     "start_time": "2023-12-20T02:10:16.583632Z"
    }
   },
   "outputs": [],
   "source": [
    "fig = plt.figure(figsize=(8,6))\n",
    "fig.subplots_adjust(hspace=0.4)\n",
    "fig.suptitle('Grammy Nominations and Wins')\n",
    "\n",
    "plt.subplot(2,1,1)\n",
    "plt.bar(grammys_data.year, grammys_data.solti_nominated, color='cornflowerblue')\n",
    "plt.bar(grammys_data.year, grammys_data.solti_won, color='orange', bottom=grammys_data.solti_nominated)\n",
    "plt.title('Solti Grammy Awards')\n",
    "plt.xlim(1961,2025)\n",
    "plt.ylim(0,11)\n",
    "\n",
    "plt.subplot(2,1,2)\n",
    "plt.bar(grammys_data.year, grammys_data.beyonce_nominated, color='royalblue')\n",
    "plt.bar(grammys_data.year, grammys_data.beyonce_won, bottom=grammys_data.beyonce_nominated, color='pink')\n",
    "plt.title('Beyonce Grammy Awards')\n",
    "plt.xlim(1961, 2025)\n",
    "plt.ylim(0,11)\n",
    "plt.xlabel(' ')\n",
    "\n",
    "plt.show()"
   ]
  },
  {
   "cell_type": "markdown",
   "id": "32fbc216",
   "metadata": {},
   "source": [
    "6. Add a legend to each graph, and position it to take advantage of open space. Set the legend parameter `frameon` to `False` for a clean look. "
   ]
  },
  {
   "cell_type": "code",
   "execution_count": null,
   "id": "5f7737d4",
   "metadata": {
    "ExecuteTime": {
     "start_time": "2023-12-20T02:10:16.596787Z"
    }
   },
   "outputs": [],
   "source": [
    "fig = plt.figure(figsize=(8,6))\n",
    "fig.subplots_adjust(hspace=0.4)\n",
    "fig.suptitle('Grammy Nominations and Wins')\n",
    "\n",
    "plt.subplot(2,1,1)\n",
    "plt.bar(grammys_data.year, grammys_data.solti_nominated, color='cornflowerblue', label='nominated')\n",
    "plt.bar(grammys_data.year, grammys_data.solti_won, color='orange', bottom=grammys_data.solti_nominated, label='won')\n",
    "plt.title('Solti Grammy Awards')\n",
    "plt.xlim(1961,2025)\n",
    "plt.ylim(0,11)\n",
    "plt.xticks(rotation=0)\n",
    "plt.legend(frameon=True, bbox_to_anchor=(0.9,0.9))\n",
    "\n",
    "plt.subplot(2,1,2)\n",
    "plt.bar(grammys_data.year, grammys_data.beyonce_nominated, color='royalblue', label='nominated')\n",
    "plt.bar(grammys_data.year, grammys_data.beyonce_won, bottom=grammys_data.beyonce_nominated, color='pink', label='won')\n",
    "plt.title('Beyonce Grammy Awards')\n",
    "plt.xlim(1961, 2025)\n",
    "plt.ylim(0,11)\n",
    "plt.xlabel(' ')\n",
    "plt.xticks(rotation=0)\n",
    "plt.legend(frameon=True, bbox_to_anchor=(0.4,0.9))\n",
    "\n",
    "plt.show()"
   ]
  },
  {
   "cell_type": "markdown",
   "id": "5638d44a",
   "metadata": {},
   "source": [
    "### Add annotations."
   ]
  },
  {
   "cell_type": "markdown",
   "id": "1a034416",
   "metadata": {},
   "source": [
    "7. Add a `dotted` `gray` vertical AB line to each graph to delineate the end of Solti's Grammy career and the start of Beyoncé's. "
   ]
  },
  {
   "cell_type": "code",
   "execution_count": null,
   "id": "cca0dab5",
   "metadata": {
    "ExecuteTime": {
     "start_time": "2023-12-20T02:10:16.600293Z"
    }
   },
   "outputs": [],
   "source": [
    "fig = plt.figure(figsize=(8,6))\n",
    "fig.subplots_adjust(hspace=0.4)\n",
    "fig.suptitle('Grammy Nominations and Wins')\n",
    "\n",
    "plt.subplot(2,1,1)\n",
    "plt.bar(grammys_data.year, grammys_data.solti_nominated, color='cornflowerblue', label='nominated')\n",
    "plt.bar(grammys_data.year, grammys_data.solti_won, color='orange', bottom=grammys_data.solti_nominated, label='won')\n",
    "plt.title('Solti Grammy Awards')\n",
    "plt.xlim(1961,2025)\n",
    "plt.ylim(0,11)\n",
    "plt.xticks(rotation=0)\n",
    "plt.legend(frameon=True, bbox_to_anchor=(0.9,0.9))\n",
    "plt.axvline(1999.5, linestyle='dotted', color='red')\n",
    "\n",
    "plt.subplot(2,1,2)\n",
    "plt.bar(grammys_data.year, grammys_data.beyonce_nominated, color='royalblue', label='nominated')\n",
    "plt.bar(grammys_data.year, grammys_data.beyonce_won, bottom=grammys_data.beyonce_nominated, color='pink', label='won')\n",
    "plt.title('Beyonce Grammy Awards')\n",
    "plt.xlim(1961, 2025)\n",
    "plt.ylim(0,11)\n",
    "plt.xlabel(' ')\n",
    "plt.xticks(rotation=0)\n",
    "plt.legend(frameon=True, bbox_to_anchor=(0.4,0.9))\n",
    "plt.axvline(1999.5, linestyle='dotted', color='red')\n",
    "\n",
    "plt.show()"
   ]
  },
  {
   "cell_type": "markdown",
   "id": "f01de1df",
   "metadata": {},
   "source": [
    "8. Taking advantage of the open space available, add a text annotation to each graph to deliver the following information in a readable format:\n",
    "- Solti: 31 wins, 74 nominations, from 1963 to 1999\n",
    "- Beyoncé: 32 wins, 88 nominations, from 2000 to today"
   ]
  },
  {
   "cell_type": "code",
   "execution_count": null,
   "id": "97d219d8",
   "metadata": {
    "ExecuteTime": {
     "start_time": "2023-12-20T02:10:16.611090Z"
    }
   },
   "outputs": [],
   "source": [
    "fig = plt.figure(figsize=(8,6))\n",
    "fig.subplots_adjust(hspace=0.4)\n",
    "fig.suptitle('Grammy Nominations and Wins')\n",
    "\n",
    "plt.subplot(2,1,1)\n",
    "plt.bar(grammys_data.year, grammys_data.solti_nominated, color='cornflowerblue', label='nominated')\n",
    "plt.bar(grammys_data.year, grammys_data.solti_won, color='orange', bottom=grammys_data.solti_nominated, label='won')\n",
    "plt.title('Solti Grammy Awards')\n",
    "plt.xlim(1961,2025)\n",
    "plt.ylim(0,11)\n",
    "plt.xticks(rotation=0)\n",
    "plt.legend(frameon=True, bbox_to_anchor=(0.9,0.9))\n",
    "plt.axvline(1999.5, linestyle='dotted', color='red')\n",
    "plt.annotate('Solti:\\n31 won\\n74 nominations', xy=(2023.5,3), color='blue')\n",
    "\n",
    "plt.subplot(2,1,2)\n",
    "plt.bar(grammys_data.year, grammys_data.beyonce_nominated, color='royalblue', label='nominated')\n",
    "plt.bar(grammys_data.year, grammys_data.beyonce_won, bottom=grammys_data.beyonce_nominated, color='pink', label='won')\n",
    "plt.title('Beyonce Grammy Awards')\n",
    "plt.xlim(1961, 2025)\n",
    "plt.ylim(0,11)\n",
    "plt.xlabel(' ')\n",
    "plt.xticks(rotation=0)\n",
    "plt.legend(frameon=True, bbox_to_anchor=(0.4,0.9))\n",
    "plt.axvline(1999.5, linestyle='dotted', color='red')\n",
    "plt.annotate('Beyonce:\\n32 wins\\n88 nominations', xy=(2007,7.5), color='blue')\n",
    "\n",
    "plt.show()"
   ]
  },
  {
   "cell_type": "markdown",
   "id": "e4bbd596",
   "metadata": {},
   "source": [
    "### Make final tweaks and export chart."
   ]
  },
  {
   "cell_type": "markdown",
   "id": "f717207d",
   "metadata": {},
   "source": [
    "9. Give Solti's annotation a horizontal alignment (`ha`) of `'right'` so that it aligns nicely with the edge of the graph and lends balance to the overall composition. Now that you can all the components in place, make any final adjustments to the axes limits, subplots spacing, annotation and legend placement, etc -- all with an eye towards creating a balanced graph. Avoid a composition that is cramped in some places and empty in others. "
   ]
  },
  {
   "cell_type": "code",
   "execution_count": null,
   "id": "79fccb7d",
   "metadata": {
    "ExecuteTime": {
     "start_time": "2023-12-20T02:10:16.615967Z"
    }
   },
   "outputs": [],
   "source": [
    "fig = plt.figure(figsize=(8,6))\n",
    "fig.subplots_adjust(hspace=0.4)\n",
    "fig.suptitle('Grammy Nominations and Wins')\n",
    "\n",
    "plt.subplot(2,1,1)\n",
    "plt.bar(grammys_data.year, grammys_data.solti_nominated, color='cornflowerblue', label='nominated')\n",
    "plt.bar(grammys_data.year, grammys_data.solti_won, color='orange', bottom=grammys_data.solti_nominated, label='won')\n",
    "plt.title('Solti Grammy Awards')\n",
    "plt.xlim(1961,2025)\n",
    "plt.ylim(0,11)\n",
    "plt.xticks(rotation=0)\n",
    "plt.legend(frameon=True, bbox_to_anchor=(0.99,0.9))\n",
    "plt.axvline(1999.5, linestyle='dotted', color='red')\n",
    "plt.annotate('Solti:\\n31 won\\n74 nominations', xy=(2023.5,3), color='blue', ha='right')\n",
    "\n",
    "plt.subplot(2,1,2)\n",
    "plt.bar(grammys_data.year, grammys_data.beyonce_nominated, color='royalblue', label='nominated')\n",
    "plt.bar(grammys_data.year, grammys_data.beyonce_won, bottom=grammys_data.beyonce_nominated, color='pink', label='won')\n",
    "plt.title('Beyonce Grammy Awards')\n",
    "plt.xlim(1961, 2025)\n",
    "plt.ylim(0,11)\n",
    "plt.xlabel(' ')\n",
    "plt.xticks(rotation=0)\n",
    "plt.legend(frameon=True, bbox_to_anchor=(0.23,0.9))\n",
    "plt.axvline(1999.5, linestyle='dotted', color='red')\n",
    "plt.annotate('Beyonce:\\n32 wins\\n88 nominations', xy=(1962.5,3), color='blue')\n",
    "plt.show()"
   ]
  },
  {
   "cell_type": "markdown",
   "id": "fdbbb0c0",
   "metadata": {},
   "source": [
    "10. When you are satisfied, save the chart as a .png file."
   ]
  },
  {
   "cell_type": "code",
   "execution_count": null,
   "id": "443e0648",
   "metadata": {
    "ExecuteTime": {
     "start_time": "2023-12-20T02:10:16.620275Z"
    }
   },
   "outputs": [],
   "source": [
    "fig = plt.figure(figsize=(8,6))\n",
    "fig.subplots_adjust(hspace=0.4)\n",
    "fig.suptitle('Grammy Nominations and Wins')\n",
    "\n",
    "plt.subplot(2,1,1)\n",
    "plt.bar(grammys_data.year, grammys_data.solti_nominated, color='cornflowerblue', label='nominated')\n",
    "plt.bar(grammys_data.year, grammys_data.solti_won, color='orange', bottom=grammys_data.solti_nominated, label='won')\n",
    "plt.title('Solti Grammy Awards')\n",
    "plt.xlim(1961,2025)\n",
    "plt.ylim(0,11)\n",
    "plt.xticks(rotation=0)\n",
    "plt.legend(frameon=True, bbox_to_anchor=(0.99,0.9))\n",
    "plt.axvline(1999.5, linestyle='dotted', color='red')\n",
    "plt.annotate('Solti:\\n31 won\\n74 nominations', xy=(2023.5,3), color='blue', ha='right')\n",
    "\n",
    "plt.subplot(2,1,2)\n",
    "plt.bar(grammys_data.year, grammys_data.beyonce_nominated, color='royalblue', label='nominated')\n",
    "plt.bar(grammys_data.year, grammys_data.beyonce_won, bottom=grammys_data.beyonce_nominated, color='pink', label='won')\n",
    "plt.title('Beyonce Grammy Awards')\n",
    "plt.xlim(1961, 2025)\n",
    "plt.ylim(0,11)\n",
    "plt.xlabel(' ')\n",
    "plt.xticks(rotation=0)\n",
    "plt.legend(frameon=True, bbox_to_anchor=(0.23,0.9))\n",
    "plt.axvline(1999.5, linestyle='dotted', color='red')\n",
    "plt.annotate('Beyonce:\\n32 wins\\n88 nominations', xy=(1962.5,3), color='blue')\n",
    "\n",
    "plt.show()\n",
    "plt.savefig('grammy_win_records.png', bbox_inches='tight', dpi=100)"
   ]
  },
  {
   "cell_type": "markdown",
   "id": "ec44812a",
   "metadata": {},
   "source": [
    "11. Nice work! You made a graph comparing the wins and nominations over time for two all-time greats of the music industry. Take a moment to consider what this chart does a good job of communicating: perhaps thinking about the duration of artists' careers, wins vs. nominations, or the different peaks and valleys in their nominations. Then consider what is _not_ shown in this chart: perhaps thinking about the different awards each was nominated for (fun fact: there is no overlap!), how many awards were collaborations with other artists, or which awards represented historic achievements for each."
   ]
  },
  {
   "cell_type": "markdown",
   "id": "fa6828b6",
   "metadata": {},
   "source": [
    "12. If you're curious, open the toggle below to compare the first draft and our final chart. How similar is your final chart to our version? They'll likely be similar, but not identical!"
   ]
  },
  {
   "cell_type": "markdown",
   "id": "d2507b5a",
   "metadata": {},
   "source": [
    "<details>\n",
    "    <summary style=\"display:list-item; font-size:16px; color:blue;\"><i>How did we improve the graph? Toggle to see our first and final drafts:</i></summary>\n",
    "    \n",
    "First draft | Final draft\n",
    ":-: | :-: \n",
    "![alt](first_draft_chart.png) | ![alt](bey_solti_grammy_chart.png)\n",
    "\n",
    "What did we improve? <ul>\n",
    "    <li>subplots make it easier to separate and compare the two artists</li>\n",
    "    <li>spacing and figure dimensions make the graph less crowded</li>\n",
    "    <li>annotations provide crucial context</li>\n",
    "    <li>titles and super title help us know what the graph shows</li> </ul>\n",
    "    </details>"
   ]
  },
  {
   "cell_type": "code",
   "execution_count": null,
   "id": "1abe8d11",
   "metadata": {
    "ExecuteTime": {
     "start_time": "2023-12-20T02:10:16.630158Z"
    }
   },
   "outputs": [],
   "source": []
  }
 ],
 "metadata": {
  "kernelspec": {
   "display_name": "Python 3 (ipykernel)",
   "language": "python",
   "name": "python3"
  },
  "language_info": {
   "codemirror_mode": {
    "name": "ipython",
    "version": 3
   },
   "file_extension": ".py",
   "mimetype": "text/x-python",
   "name": "python",
   "nbconvert_exporter": "python",
   "pygments_lexer": "ipython3",
   "version": "3.8.10"
  }
 },
 "nbformat": 4,
 "nbformat_minor": 5
}
